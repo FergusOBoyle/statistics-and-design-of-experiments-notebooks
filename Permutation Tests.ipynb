{
 "cells": [
  {
   "cell_type": "markdown",
   "metadata": {},
   "source": [
    "## Permutation Tests (Randomization Test)\n",
    "\n",
    "In a permutation test we permute (think shuffle) the observed data by assigning them to the different outcome variables, sticking to the same ratio of outcome variables as in the original sample. Unlike, bootstrapping, the sampling is done without replacement.\n",
    "\n",
    "By doing this we can build if a distribution the parameter in the null scenario and then compare our own observed statistic to see when it lies in the distribution.\n",
    "\n",
    "An example is presented here. The data was obtained from a test question in the Udacity Data Science Nanodegree Program.\n",
    "\n",
    "In the example, a data file contains 5000 samples broken down into a control (condition = 0) and experimental (condition = 1) group. Time taken for a webpage to upload is measured for every observation. We are interested in improving some of the worst cases so we focus on teh 90th percentile in this example.\n"
   ]
  },
  {
   "cell_type": "code",
   "execution_count": 4,
   "metadata": {},
   "outputs": [],
   "source": [
    "import numpy as np\n",
    "import pandas as pd\n",
    "import scipy.stats as stats\n",
    "from statsmodels.stats import proportion as proptests\n",
    "import random\n",
    "\n",
    "import seaborn as sns\n",
    "import matplotlib.pyplot as plt"
   ]
  },
  {
   "cell_type": "code",
   "execution_count": 5,
   "metadata": {},
   "outputs": [
    {
     "data": {
      "text/html": [
       "<div>\n",
       "<style scoped>\n",
       "    .dataframe tbody tr th:only-of-type {\n",
       "        vertical-align: middle;\n",
       "    }\n",
       "\n",
       "    .dataframe tbody tr th {\n",
       "        vertical-align: top;\n",
       "    }\n",
       "\n",
       "    .dataframe thead th {\n",
       "        text-align: right;\n",
       "    }\n",
       "</style>\n",
       "<table border=\"1\" class=\"dataframe\">\n",
       "  <thead>\n",
       "    <tr style=\"text-align: right;\">\n",
       "      <th></th>\n",
       "      <th>condition</th>\n",
       "      <th>time</th>\n",
       "    </tr>\n",
       "  </thead>\n",
       "  <tbody>\n",
       "    <tr>\n",
       "      <th>0</th>\n",
       "      <td>0</td>\n",
       "      <td>5940</td>\n",
       "    </tr>\n",
       "    <tr>\n",
       "      <th>1</th>\n",
       "      <td>0</td>\n",
       "      <td>666</td>\n",
       "    </tr>\n",
       "    <tr>\n",
       "      <th>2</th>\n",
       "      <td>1</td>\n",
       "      <td>571</td>\n",
       "    </tr>\n",
       "    <tr>\n",
       "      <th>3</th>\n",
       "      <td>1</td>\n",
       "      <td>779</td>\n",
       "    </tr>\n",
       "    <tr>\n",
       "      <th>4</th>\n",
       "      <td>0</td>\n",
       "      <td>1928</td>\n",
       "    </tr>\n",
       "    <tr>\n",
       "      <th>5</th>\n",
       "      <td>0</td>\n",
       "      <td>3791</td>\n",
       "    </tr>\n",
       "    <tr>\n",
       "      <th>6</th>\n",
       "      <td>0</td>\n",
       "      <td>736</td>\n",
       "    </tr>\n",
       "    <tr>\n",
       "      <th>7</th>\n",
       "      <td>1</td>\n",
       "      <td>8482</td>\n",
       "    </tr>\n",
       "    <tr>\n",
       "      <th>8</th>\n",
       "      <td>0</td>\n",
       "      <td>4594</td>\n",
       "    </tr>\n",
       "    <tr>\n",
       "      <th>9</th>\n",
       "      <td>0</td>\n",
       "      <td>1171</td>\n",
       "    </tr>\n",
       "  </tbody>\n",
       "</table>\n",
       "</div>"
      ],
      "text/plain": [
       "   condition  time\n",
       "0          0  5940\n",
       "1          0   666\n",
       "2          1   571\n",
       "3          1   779\n",
       "4          0  1928\n",
       "5          0  3791\n",
       "6          0   736\n",
       "7          1  8482\n",
       "8          0  4594\n",
       "9          0  1171"
      ]
     },
     "execution_count": 5,
     "metadata": {},
     "output_type": "execute_result"
    }
   ],
   "source": [
    "data = pd.read_csv('./data/permutation_data.csv')\n",
    "data.head(10)"
   ]
  },
  {
   "cell_type": "code",
   "execution_count": 7,
   "metadata": {},
   "outputs": [
    {
     "data": {
      "text/plain": [
       "(5000, 2)"
      ]
     },
     "execution_count": 7,
     "metadata": {},
     "output_type": "execute_result"
    }
   ],
   "source": [
    "data.shape"
   ]
  },
  {
   "cell_type": "code",
   "execution_count": 24,
   "metadata": {},
   "outputs": [],
   "source": []
  },
  {
   "cell_type": "code",
   "execution_count": 9,
   "metadata": {},
   "outputs": [
    {
     "data": {
      "image/png": "[encoded data removed]",
      "text/plain": [
       "<Figure size 432x288 with 1 Axes>"
      ]
     },
     "metadata": {
      "needs_background": "light"
     },
     "output_type": "display_data"
    }
   ],
   "source": [
    "# data visualization\n",
    "bin_borders = np.arange(0, data['time'].max()+400, 400)\n",
    "plt.hist(data[data['condition'] == 0]['time'], alpha = 0.5, bins = bin_borders)\n",
    "plt.hist(data[data['condition'] == 1]['time'], alpha = 0.5, bins = bin_borders)\n",
    "plt.legend(labels = ['control', 'experiment']);"
   ]
  },
  {
   "cell_type": "code",
   "execution_count": 53,
   "metadata": {},
   "outputs": [
    {
     "name": "stdout",
     "output_type": "stream",
     "text": [
      "90th percentile of the control (0) group: 5809.199999999999\n",
      "90th percentile of the experimental (1) group: 5492.2\n"
     ]
    }
   ],
   "source": [
    "# Just how different are the two distributions' 90th percentiles?\n",
    "percentile_90_con_0 = np.percentile(data[data['condition'] == 0]['time'], 90)\n",
    "percentile_90_con_1 = np.percentile(data[data['condition'] == 1]['time'], 90)\n",
    "print(\"90th percentile of the control (0) group:\", percentile_90_con_0)\n",
    "print(\"90th percentile of the experimental (1) group:\", percentile_90_con_1)"
   ]
  },
  {
   "cell_type": "code",
   "execution_count": 57,
   "metadata": {},
   "outputs": [],
   "source": [
    "n_trials = 10000\n",
    "percentile = 90"
   ]
  },
  {
   "cell_type": "code",
   "execution_count": 37,
   "metadata": {},
   "outputs": [
    {
     "data": {
      "text/plain": [
       "2470"
      ]
     },
     "execution_count": 37,
     "metadata": {},
     "output_type": "execute_result"
    }
   ],
   "source": [
    "\n",
    "len(random_exp)"
   ]
  },
  {
   "cell_type": "code",
   "execution_count": 69,
   "metadata": {},
   "outputs": [],
   "source": [
    "#get size of the control and experiental groups\n",
    "num_control = data[data['condition'] == 0].shape[0]\n",
    "num_experimental = data[data['condition'] == 1].shape[0]\n",
    "\n",
    "# initialize storage of bootstrapped sample quantiles\n",
    "permutation_diffs = []\n",
    "\n",
    "# For each trial (or we could call it a permutation)\n",
    "for _ in range(n_trials):\n",
    "    # randomly permute the grouping labels\n",
    "    shuffle = np.random.choice(data['time'], num_control+num_experimental, replace=False)\n",
    "    random_control = shuffle[:num_control]\n",
    "    random_exp = shuffle[num_control:num_control+num_experimental]\n",
    "\n",
    "    # compute the difference in percentiles\n",
    "    difference = np.percentile(random_control, q = percentile ) - np.percentile(random_exp, q = percentile )\n",
    "\n",
    "    # and add the value to the list of sampled differences\n",
    "    permutation_diffs.append(difference)\n",
    "\n",
    "# compute observed statistic\n",
    "observed_diff = percentile_90_con_0 - percentile_90_con_1\n",
    "\n"
   ]
  },
  {
   "cell_type": "code",
   "execution_count": 70,
   "metadata": {},
   "outputs": [
    {
     "data": {
      "text/plain": [
       "<matplotlib.lines.Line2D at 0x712e4b8080>"
      ]
     },
     "execution_count": 70,
     "metadata": {},
     "output_type": "execute_result"
    },
    {
     "data": {
      "image/png": "[encoded data removed]",
      "text/plain": [
       "<Figure size 432x288 with 1 Axes>"
      ]
     },
     "metadata": {
      "needs_background": "light"
     },
     "output_type": "display_data"
    }
   ],
   "source": [
    "ax = sns.distplot(permutation_diffs, kde=True, norm_hist=True  )\n",
    "ax.set_title(\"90th Percentile differences between simulated control samples and simulated experimental samples \")\n",
    "\n",
    "#Draw a line on the plot where our observed difference between control and experiental group lies\n",
    "ax.axvline(observed_diff, color='red')"
   ]
  },
  {
   "cell_type": "markdown",
   "metadata": {},
   "source": [
    "*The histogram above plots the distribution of differences between the simulated control groups and the simulated experimental groups.*\n",
    "\n",
    "*We can call this the null distribution. It reflects the distribution if we are to assume that the variance observed is truly the variance of the null distribution and that our observed delta between the control and experiental group is simply, by chance, an extreme case.*\n",
    "\n",
    "*The location of the observed difference bewteen the groups 90th percentiles is marked with a red vertical line.*"
   ]
  },
  {
   "cell_type": "code",
   "execution_count": 71,
   "metadata": {},
   "outputs": [],
   "source": [
    "#one sided test to calculate the p_score\n",
    "above_observed = (permutation_diffs >= observed_diff).sum()"
   ]
  },
  {
   "cell_type": "code",
   "execution_count": 72,
   "metadata": {},
   "outputs": [
    {
     "name": "stdout",
     "output_type": "stream",
     "text": [
      "p_score of the observed difference: 0.0316\n"
     ]
    }
   ],
   "source": [
    "p_score = above_observed/n_trials\n",
    "print(\"p_score of the observed difference:\", p_score)"
   ]
  }
 ],
 "metadata": {
  "kernelspec": {
   "display_name": "Python 3",
   "language": "python",
   "name": "python3"
  },
  "language_info": {
   "codemirror_mode": {
    "name": "ipython",
    "version": 3
   },
   "file_extension": ".py",
   "mimetype": "text/x-python",
   "name": "python",
   "nbconvert_exporter": "python",
   "pygments_lexer": "ipython3",
   "version": "3.7.2"
  }
 },
 "nbformat": 4,
 "nbformat_minor": 2
}
